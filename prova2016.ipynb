{
 "cells": [
  {
   "cell_type": "code",
   "execution_count": 2,
   "metadata": {
    "collapsed": true
   },
   "outputs": [],
   "source": [
    "import os\n",
    "import sys\n",
    "\n",
    "import pandas as pd\n",
    "import numpy as np\n",
    "import scipy\n",
    "from scipy import linalg\n",
    "import math\n",
    "from sympy import solve\n",
    "from sympy import Symbol"
   ]
  },
  {
   "cell_type": "markdown",
   "metadata": {},
   "source": [
    "# latex and markdown drafts"
   ]
  },
  {
   "cell_type": "markdown",
   "metadata": {},
   "source": [
    "$$e^x=\\sum_{i=0}^\\infty \\frac{1}{i!}x^i$$"
   ]
  },
  {
   "cell_type": "markdown",
   "metadata": {},
   "source": [
    "| This | is   |\n",
    "|------|------|\n",
    "|   a  | table|"
   ]
  },
  {
   "cell_type": "markdown",
   "metadata": {},
   "source": [
    "# Questão 3"
   ]
  },
  {
   "cell_type": "code",
   "execution_count": 3,
   "metadata": {},
   "outputs": [
    {
     "data": {
      "text/plain": [
       "matrix([[ 7,  3,  0,  2, -3],\n",
       "        [ 3,  6, -1,  2,  2],\n",
       "        [ 0, -1, 14, -1,  6],\n",
       "        [ 2,  2, -1,  3, -1],\n",
       "        [-3,  2,  6, -1,  7]])"
      ]
     },
     "execution_count": 3,
     "metadata": {},
     "output_type": "execute_result"
    }
   ],
   "source": [
    "m_B = np.matrix([[7,3,0,2,-3],[3,6,-1,2,2],[0,-1,14,-1,6],[2,2,-1,3,-1],[-3,2,6,-1,7]])\n",
    "m_B"
   ]
  },
  {
   "cell_type": "code",
   "execution_count": 4,
   "metadata": {},
   "outputs": [
    {
     "data": {
      "text/plain": [
       "matrix([[ True,  True,  True,  True,  True],\n",
       "        [ True,  True,  True,  True,  True],\n",
       "        [ True,  True,  True,  True,  True],\n",
       "        [ True,  True,  True,  True,  True],\n",
       "        [ True,  True,  True,  True,  True]], dtype=bool)"
      ]
     },
     "execution_count": 4,
     "metadata": {},
     "output_type": "execute_result"
    }
   ],
   "source": [
    "np.transpose(m_B) == m_B"
   ]
  },
  {
   "cell_type": "code",
   "execution_count": 5,
   "metadata": {
    "collapsed": true
   },
   "outputs": [],
   "source": [
    "eigstuff = np.linalg.eig(m_B)\n",
    "\n",
    "m_eigvalues = eigstuff[0]\n",
    "m_eigvalues = np.diag(m_eigvalues)\n",
    "\n",
    "m_eigvectors = eigstuff[1]"
   ]
  },
  {
   "cell_type": "code",
   "execution_count": 6,
   "metadata": {},
   "outputs": [
    {
     "data": {
      "text/plain": [
       "array([  1.78782743e+01,   1.03489151e+01,   6.81658356e+00,\n",
       "         6.50669554e-03,   1.94972029e+00])"
      ]
     },
     "execution_count": 6,
     "metadata": {},
     "output_type": "execute_result"
    }
   ],
   "source": [
    "eigstuff[0]"
   ]
  },
  {
   "cell_type": "code",
   "execution_count": 18,
   "metadata": {},
   "outputs": [
    {
     "data": {
      "text/plain": [
       "array([[  1.78782743e+01,   0.00000000e+00,   0.00000000e+00,\n",
       "          0.00000000e+00,   0.00000000e+00],\n",
       "       [  0.00000000e+00,   1.03489151e+01,   0.00000000e+00,\n",
       "          0.00000000e+00,   0.00000000e+00],\n",
       "       [  0.00000000e+00,   0.00000000e+00,   6.81658356e+00,\n",
       "          0.00000000e+00,   0.00000000e+00],\n",
       "       [  0.00000000e+00,   0.00000000e+00,   0.00000000e+00,\n",
       "          6.50669554e-03,   0.00000000e+00],\n",
       "       [  0.00000000e+00,   0.00000000e+00,   0.00000000e+00,\n",
       "          0.00000000e+00,   1.94972029e+00]])"
      ]
     },
     "execution_count": 18,
     "metadata": {},
     "output_type": "execute_result"
    }
   ],
   "source": [
    "m_eigvalues"
   ]
  },
  {
   "cell_type": "code",
   "execution_count": 8,
   "metadata": {},
   "outputs": [
    {
     "data": {
      "text/plain": [
       "array([[ 4.22827084,  0.        ,  0.        ,  0.        ,  0.        ],\n",
       "       [ 0.        ,  3.21697298,  0.        ,  0.        ,  0.        ],\n",
       "       [ 0.        ,  0.        ,  2.61085878,  0.        ,  0.        ],\n",
       "       [ 0.        ,  0.        ,  0.        ,  0.08066409,  0.        ],\n",
       "       [ 0.        ,  0.        ,  0.        ,  0.        ,  1.39632385]])"
      ]
     },
     "execution_count": 8,
     "metadata": {},
     "output_type": "execute_result"
    }
   ],
   "source": [
    "m_eigvalues_root = m_eigvalues**(1/2)\n",
    "m_eigvalues_root"
   ]
  },
  {
   "cell_type": "code",
   "execution_count": 20,
   "metadata": {},
   "outputs": [
    {
     "data": {
      "text/plain": [
       "matrix([[-0.17620215, -0.7054622 ,  0.39794698,  0.45089513,  0.3310705 ],\n",
       "        [-0.04903154, -0.5924338 , -0.57876833, -0.53979537,  0.1423597 ],\n",
       "        [ 0.83207956, -0.2192238 ,  0.40201825, -0.29419806, -0.10683336],\n",
       "        [-0.12045337, -0.32083078, -0.04666762,  0.16972375, -0.92280798],\n",
       "        [ 0.50959131, -0.01880998, -0.58555007,  0.62446449,  0.08448726]])"
      ]
     },
     "execution_count": 20,
     "metadata": {},
     "output_type": "execute_result"
    }
   ],
   "source": [
    "m_eigvectors"
   ]
  },
  {
   "cell_type": "code",
   "execution_count": 21,
   "metadata": {},
   "outputs": [
    {
     "data": {
      "text/plain": [
       "matrix([[-0.17620215, -0.04903154,  0.83207956, -0.12045337,  0.50959131],\n",
       "        [-0.7054622 , -0.5924338 , -0.2192238 , -0.32083078, -0.01880998],\n",
       "        [ 0.39794698, -0.57876833,  0.40201825, -0.04666762, -0.58555007],\n",
       "        [ 0.45089513, -0.53979537, -0.29419806,  0.16972375,  0.62446449],\n",
       "        [ 0.3310705 ,  0.1423597 , -0.10683336, -0.92280798,  0.08448726]])"
      ]
     },
     "execution_count": 21,
     "metadata": {},
     "output_type": "execute_result"
    }
   ],
   "source": [
    "m_eigvectors_inv = np.linalg.inv(m_eigvectors)\n",
    "m_eigvectors_inv"
   ]
  },
  {
   "cell_type": "code",
   "execution_count": 22,
   "metadata": {},
   "outputs": [
    {
     "data": {
      "text/plain": [
       "matrix([[ 2.31042697,  0.13251914,  0.25197241, -0.4472238 , -0.4321182 ],\n",
       "        [ 0.13251914,  3.36767134, -0.2975013 , -0.16860884, -1.17605044],\n",
       "        [ 0.25197241, -0.2975013 ,  2.64809015,  0.94371782,  0.11427329],\n",
       "        [-0.4472238 , -0.16860884,  0.94371782,  2.56979778,  0.5270745 ],\n",
       "        [-0.4321182 , -1.17605044,  0.11427329,  0.5270745 ,  0.63710431]])"
      ]
     },
     "execution_count": 22,
     "metadata": {},
     "output_type": "execute_result"
    }
   ],
   "source": [
    "m_B_diag = m_eigvectors_inv.dot(m_eigvalues_root).dot(m_eigvectors)\n",
    "m_B_diag"
   ]
  },
  {
   "cell_type": "markdown",
   "metadata": {},
   "source": [
    "# Questão 4"
   ]
  },
  {
   "cell_type": "code",
   "execution_count": 24,
   "metadata": {},
   "outputs": [
    {
     "data": {
      "text/plain": [
       "matrix([[ 0.66666667, -0.33333333,  0.66666667],\n",
       "        [ 0.66666667,  0.66666667, -0.33333333],\n",
       "        [-0.33333333,  0.66666667,  0.66666667]])"
      ]
     },
     "execution_count": 24,
     "metadata": {},
     "output_type": "execute_result"
    }
   ],
   "source": [
    "m_A4 = np.matrix([[2/3,-1/3,2/3],[2/3,2/3,-1/3],[-1/3,2/3,2/3]])\n",
    "m_A4"
   ]
  },
  {
   "cell_type": "code",
   "execution_count": 25,
   "metadata": {
    "collapsed": true
   },
   "outputs": [],
   "source": [
    "eigstuff = np.linalg.eig(m_A4)\n",
    "\n",
    "m_eigvalues = eigstuff[0]\n",
    "m_eigvalues = np.diag(m_eigvalues)\n",
    "\n",
    "m_eigvectors = eigstuff[1]"
   ]
  },
  {
   "cell_type": "code",
   "execution_count": 26,
   "metadata": {},
   "outputs": [
    {
     "data": {
      "text/plain": [
       "array([[ 0.5+0.8660254j,  0.0+0.j       ,  0.0+0.j       ],\n",
       "       [ 0.0+0.j       ,  0.5-0.8660254j,  0.0+0.j       ],\n",
       "       [ 0.0+0.j       ,  0.0+0.j       ,  1.0+0.j       ]])"
      ]
     },
     "execution_count": 26,
     "metadata": {},
     "output_type": "execute_result"
    }
   ],
   "source": [
    "m_eigvalues"
   ]
  },
  {
   "cell_type": "markdown",
   "metadata": {},
   "source": [
    "Olhando os autovetores, vemos que o autovetor correspondente ao autovalor $\\lambda$ = 1, na última coluna, é um múltiplo de (1,1,1)."
   ]
  },
  {
   "cell_type": "code",
   "execution_count": 27,
   "metadata": {},
   "outputs": [
    {
     "data": {
      "text/plain": [
       "matrix([[-0.28867513+0.5j, -0.28867513-0.5j,  0.57735027+0.j ],\n",
       "        [ 0.57735027+0.j ,  0.57735027-0.j ,  0.57735027+0.j ],\n",
       "        [-0.28867513-0.5j, -0.28867513+0.5j,  0.57735027+0.j ]])"
      ]
     },
     "execution_count": 27,
     "metadata": {},
     "output_type": "execute_result"
    }
   ],
   "source": [
    "m_eigvectors"
   ]
  },
  {
   "cell_type": "markdown",
   "metadata": {},
   "source": [
    "Agora, precisamos encontrar vetores ortogonais a este (podemos descartar os outros autovetores)."
   ]
  },
  {
   "cell_type": "code",
   "execution_count": 32,
   "metadata": {},
   "outputs": [
    {
     "data": {
      "text/plain": [
       "matrix([[ 0, -2,  1],\n",
       "        [ 1,  1,  1],\n",
       "        [-1,  1,  1]])"
      ]
     },
     "execution_count": 32,
     "metadata": {},
     "output_type": "execute_result"
    }
   ],
   "source": [
    "m_eigvectors_ort = np.matrix([[0,-2,1],[1,1,1],[-1,1,1]])\n",
    "m_eigvectors_ort"
   ]
  },
  {
   "cell_type": "code",
   "execution_count": 33,
   "metadata": {},
   "outputs": [
    {
     "data": {
      "text/plain": [
       "matrix([[  5.55111512e-17,   5.00000000e-01,  -5.00000000e-01],\n",
       "        [ -3.33333333e-01,   1.66666667e-01,   1.66666667e-01],\n",
       "        [  3.33333333e-01,   3.33333333e-01,   3.33333333e-01]])"
      ]
     },
     "execution_count": 33,
     "metadata": {},
     "output_type": "execute_result"
    }
   ],
   "source": [
    "m_eigvectors_inv = np.linalg.inv(m_eigvectors_ort)\n",
    "m_eigvectors_inv"
   ]
  },
  {
   "cell_type": "code",
   "execution_count": 35,
   "metadata": {},
   "outputs": [
    {
     "data": {
      "text/plain": [
       "matrix([[1, 0, 0],\n",
       "        [0, 1, 0],\n",
       "        [0, 0, 1]])"
      ]
     },
     "execution_count": 35,
     "metadata": {},
     "output_type": "execute_result"
    }
   ],
   "source": [
    "m_eigvalues_ort = np.matrix([[1,0,0],[0,1,0],[0,0,1]])\n",
    "m_eigvalues_ort"
   ]
  },
  {
   "cell_type": "code",
   "execution_count": 39,
   "metadata": {},
   "outputs": [
    {
     "data": {
      "text/plain": [
       "matrix([[ 0.75000000-0.4330127j , -0.25000000-0.4330127j ,\n",
       "         -0.25000000-0.4330127j ],\n",
       "        [-0.08333333-0.14433757j,  0.58333333+0.4330127j ,\n",
       "          0.08333333-0.4330127j ],\n",
       "        [-0.16666667-0.28867513j,  0.16666667-0.8660254j ,  0.66666667+0.j        ]])"
      ]
     },
     "execution_count": 39,
     "metadata": {},
     "output_type": "execute_result"
    }
   ],
   "source": [
    "m_B_diag = m_eigvectors_inv.dot(m_eigvalues).dot(m_eigvectors_ort)\n",
    "m_B_diag"
   ]
  },
  {
   "cell_type": "markdown",
   "metadata": {},
   "source": [
    "# Questão 5"
   ]
  },
  {
   "cell_type": "markdown",
   "metadata": {},
   "source": [
    "teste"
   ]
  },
  {
   "cell_type": "code",
   "execution_count": 11,
   "metadata": {},
   "outputs": [
    {
     "name": "stdout",
     "output_type": "stream",
     "text": [
      "[[ 1.  0.]\n",
      " [ 0.  1.]]\n",
      "[[ 1.  0.]\n",
      " [ 1.  1.]]\n",
      "[[ 1.  2.]\n",
      " [ 0. -1.]]\n"
     ]
    }
   ],
   "source": [
    "m_A = np.matrix([[1,2],[1,1]])\n",
    "P,L,U = scipy.linalg.lu(m_A, permute_l=False)\n",
    "print(P)\n",
    "print(L)\n",
    "print(U)"
   ]
  },
  {
   "cell_type": "markdown",
   "metadata": {},
   "source": [
    "Matriz"
   ]
  },
  {
   "cell_type": "code",
   "execution_count": 12,
   "metadata": {},
   "outputs": [
    {
     "data": {
      "text/plain": [
       "matrix([[ 0.4619,  1.6439,  0.7844,  0.9046],\n",
       "        [ 0.5105,  1.8065, -0.1813, -0.3618],\n",
       "        [-0.8269,  0.7596, -0.2948,  0.0655],\n",
       "        [-0.5323,  0.6103, -0.9824, -0.979 ]])"
      ]
     },
     "execution_count": 12,
     "metadata": {},
     "output_type": "execute_result"
    }
   ],
   "source": [
    "m_A = np.matrix([[0.4619, 1.6439, 0.7844, 0.9046],[0.5105, 1.8065, -0.1813, -0.3618], [-0.8269, 0.7596, -0.2948, 0.0655], \n",
    "                 [-0.5323, 0.6103, -0.9824, -0.9790]])\n",
    "m_A"
   ]
  },
  {
   "cell_type": "code",
   "execution_count": 19,
   "metadata": {},
   "outputs": [
    {
     "name": "stdout",
     "output_type": "stream",
     "text": [
      "[[ 0.  0.  1.  0.]\n",
      " [ 0.  1.  0.  0.]\n",
      " [ 1.  0.  0.  0.]\n",
      " [ 0.  0.  0.  1.]]\n",
      "[[ 1.          0.          0.          0.        ]\n",
      " [-0.61736607  1.          0.          0.        ]\n",
      " [-0.55859233  0.90892157  1.          0.        ]\n",
      " [ 0.64372959  0.05331822 -0.81400917  1.        ]]\n",
      "[[ -8.26900000e-01   7.59600000e-01  -2.94800000e-01   6.55000000e-02]\n",
      " [  0.00000000e+00   2.27545126e+00  -3.63299516e-01  -3.21362523e-01]\n",
      " [  0.00000000e+00   0.00000000e+00   9.49937747e-01   1.23328113e+00]\n",
      " [  0.00000000e+00   0.00000000e+00   0.00000000e+00  -1.27669599e-04]]\n"
     ]
    }
   ],
   "source": [
    "P,L,U = scipy.linalg.lu(m_A )\n",
    "print(P)\n",
    "print(L)\n",
    "print(U)"
   ]
  },
  {
   "cell_type": "code",
   "execution_count": 34,
   "metadata": {},
   "outputs": [
    {
     "data": {
      "text/plain": [
       "array([[-0.8269    ,  0.7596    , -0.2948    ,  0.0655    ],\n",
       "       [ 0.        ,  2.27545126, -0.36329952, -0.32136252],\n",
       "       [ 0.        ,  0.        ,  0.94993775,  1.23328113],\n",
       "       [ 0.        ,  0.        ,  0.        ,  0.        ]])"
      ]
     },
     "execution_count": 34,
     "metadata": {},
     "output_type": "execute_result"
    }
   ],
   "source": [
    "U[3][3]=0\n",
    "U"
   ]
  },
  {
   "cell_type": "code",
   "execution_count": 35,
   "metadata": {},
   "outputs": [
    {
     "data": {
      "text/plain": [
       "(array([[ 1.,  0.,  0.,  0.],\n",
       "        [-0.,  1.,  0.,  0.],\n",
       "        [-0., -0.,  1.,  0.],\n",
       "        [-0., -0., -0.,  1.]]),\n",
       " array([[-0.8269    ,  0.7596    , -0.2948    ,  0.0655    ],\n",
       "        [ 0.        ,  2.27545126, -0.36329952, -0.32136252],\n",
       "        [ 0.        ,  0.        ,  0.94993775,  1.23328113],\n",
       "        [ 0.        ,  0.        ,  0.        ,  0.        ]]))"
      ]
     },
     "execution_count": 35,
     "metadata": {},
     "output_type": "execute_result"
    }
   ],
   "source": [
    "np.linalg.qr(U)"
   ]
  },
  {
   "cell_type": "code",
   "execution_count": null,
   "metadata": {
    "collapsed": true
   },
   "outputs": [],
   "source": []
  },
  {
   "cell_type": "markdown",
   "metadata": {},
   "source": [
    "#  strang pg 368"
   ]
  },
  {
   "cell_type": "code",
   "execution_count": 3,
   "metadata": {},
   "outputs": [
    {
     "data": {
      "text/plain": [
       "matrix([[ 2, -1],\n",
       "        [-1,  2]])"
      ]
     },
     "execution_count": 3,
     "metadata": {},
     "output_type": "execute_result"
    }
   ],
   "source": [
    "m_C = np.matrix([[2,-1], [-1,2]])\n",
    "m_C"
   ]
  },
  {
   "cell_type": "code",
   "execution_count": 4,
   "metadata": {},
   "outputs": [
    {
     "data": {
      "text/plain": [
       "matrix([[ 5, -4],\n",
       "        [-4,  5]])"
      ]
     },
     "execution_count": 4,
     "metadata": {},
     "output_type": "execute_result"
    }
   ],
   "source": [
    "m_C_Ct = m_C.dot(np.transpose(m_C))\n",
    "m_C_Ct"
   ]
  },
  {
   "cell_type": "code",
   "execution_count": 6,
   "metadata": {},
   "outputs": [
    {
     "data": {
      "text/plain": [
       "matrix([[ 2, -1],\n",
       "        [-1,  2]])"
      ]
     },
     "execution_count": 6,
     "metadata": {},
     "output_type": "execute_result"
    }
   ],
   "source": [
    "np.transpose(m_C)"
   ]
  },
  {
   "cell_type": "code",
   "execution_count": 5,
   "metadata": {},
   "outputs": [
    {
     "data": {
      "text/plain": [
       "matrix([[ 5, -4],\n",
       "        [-4,  5]])"
      ]
     },
     "execution_count": 5,
     "metadata": {},
     "output_type": "execute_result"
    }
   ],
   "source": [
    "m_Ct_C = np.transpose(m_C).dot(m_C)\n",
    "m_Ct_C"
   ]
  },
  {
   "cell_type": "code",
   "execution_count": null,
   "metadata": {
    "collapsed": true
   },
   "outputs": [],
   "source": []
  }
 ],
 "metadata": {
  "kernelspec": {
   "display_name": "Python 3",
   "language": "python",
   "name": "python3"
  },
  "language_info": {
   "codemirror_mode": {
    "name": "ipython",
    "version": 3
   },
   "file_extension": ".py",
   "mimetype": "text/x-python",
   "name": "python",
   "nbconvert_exporter": "python",
   "pygments_lexer": "ipython3",
   "version": "3.6.3"
  }
 },
 "nbformat": 4,
 "nbformat_minor": 2
}
